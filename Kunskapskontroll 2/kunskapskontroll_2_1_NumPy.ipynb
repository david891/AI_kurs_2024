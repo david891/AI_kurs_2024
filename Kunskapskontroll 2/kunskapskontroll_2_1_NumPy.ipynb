{
 "cells": [
  {
   "cell_type": "markdown",
   "id": "dacf74e6",
   "metadata": {},
   "source": [
    "# NumPy"
   ]
  },
  {
   "cell_type": "markdown",
   "id": "01b2bf34",
   "metadata": {},
   "source": [
    "Read the links: https://numpy.org/doc/stable/user/quickstart.html  and https://numpy.org/doc/stable/user/basics.broadcasting.html  before solving the exercises. "
   ]
  },
  {
   "cell_type": "code",
   "execution_count": 75,
   "id": "1f79e4a6",
   "metadata": {},
   "outputs": [],
   "source": [
    "import numpy as np"
   ]
  },
  {
   "cell_type": "markdown",
   "id": "7dae6889",
   "metadata": {},
   "source": [
    "### Print out the dimension (number of axes), shape, size and the datatype of the matrix A."
   ]
  },
  {
   "cell_type": "code",
   "execution_count": 98,
   "id": "7b3678cd",
   "metadata": {},
   "outputs": [],
   "source": [
    "A = np.arange(1, 16).reshape(3,5)"
   ]
  },
  {
   "cell_type": "code",
   "execution_count": 99,
   "id": "31d39235",
   "metadata": {},
   "outputs": [
    {
     "name": "stdout",
     "output_type": "stream",
     "text": [
      "Dimensions in A: 2\n",
      "Shape of A: (3, 5)\n",
      "Size of A: 15\n",
      "Datatype of A: <class 'numpy.ndarray'>\n"
     ]
    }
   ],
   "source": [
    "print(f'Dimensions in A: {A.ndim}')\n",
    "print(f'Shape of A: {A.shape}')\n",
    "print(f'Size of A: {A.size}')\n",
    "print(f'Datatype of A: {type(A)}')"
   ]
  },
  {
   "cell_type": "markdown",
   "id": "e56d2a96",
   "metadata": {},
   "source": [
    "### Do the following computations on the matrices B and C: \n",
    "* Elementwise subtraction. \n",
    "* Elementwise multiplication. \n",
    "* Matrix multiplication (by default you should use the @ operator)."
   ]
  },
  {
   "cell_type": "code",
   "execution_count": 100,
   "id": "a7053fbb",
   "metadata": {},
   "outputs": [
    {
     "name": "stdout",
     "output_type": "stream",
     "text": [
      "[[1 2 3]\n",
      " [4 5 6]\n",
      " [7 8 9]]\n",
      "\n",
      "[[2. 2. 2.]\n",
      " [2. 2. 2.]\n",
      " [2. 2. 2.]]\n"
     ]
    }
   ],
   "source": [
    "B = np.arange(1, 10).reshape(3, 3)\n",
    "C = np.ones((3, 3))*2\n",
    "\n",
    "print(B)\n",
    "print()\n",
    "print(C)"
   ]
  },
  {
   "cell_type": "code",
   "execution_count": 101,
   "id": "3cd794ae",
   "metadata": {},
   "outputs": [
    {
     "name": "stdout",
     "output_type": "stream",
     "text": [
      "B-C\n",
      "[[-1.  0.  1.]\n",
      " [ 2.  3.  4.]\n",
      " [ 5.  6.  7.]]\n",
      "\n",
      "B*C\n",
      "[[ 2.  4.  6.]\n",
      " [ 8. 10. 12.]\n",
      " [14. 16. 18.]]\n",
      "\n",
      "B@C\n",
      "[[12. 12. 12.]\n",
      " [30. 30. 30.]\n",
      " [48. 48. 48.]]\n"
     ]
    }
   ],
   "source": [
    "print('B-C')\n",
    "print(B-C)\n",
    "print('\\nB*C')\n",
    "print(B*C)\n",
    "print('\\nB@C')\n",
    "print(B@C)"
   ]
  },
  {
   "cell_type": "markdown",
   "id": "96030d53",
   "metadata": {},
   "source": [
    "### Do the following calculations on the matrix:\n",
    "* Exponentiate each number elementwise (use the np.exp function).\n",
    "\n",
    "* Calculate the minimum value in the whole matrix. \n",
    "* Calculcate the minimum value in each row. \n",
    "* Calculcate the minimum value in each column. \n",
    "\n",
    "\n",
    "* Find the index value for the minimum value in the whole matrix (hint: use np.argmin).\n",
    "* Find the index value for the minimum value in each row (hint: use np.argmin).\n",
    "\n",
    "\n",
    "* Calculate the sum for all elements.\n",
    "* Calculate the mean for each column. \n",
    "* Calculate the median for each column. "
   ]
  },
  {
   "cell_type": "code",
   "execution_count": 102,
   "id": "f8a9166b",
   "metadata": {},
   "outputs": [
    {
     "name": "stdout",
     "output_type": "stream",
     "text": [
      "[[1 2 3]\n",
      " [4 5 6]\n",
      " [7 8 9]]\n"
     ]
    }
   ],
   "source": [
    "B = np.arange(1, 10).reshape(3, 3)\n",
    "print(B)"
   ]
  },
  {
   "cell_type": "code",
   "execution_count": 103,
   "id": "f03f24f7",
   "metadata": {},
   "outputs": [
    {
     "name": "stdout",
     "output_type": "stream",
     "text": [
      "B exponentiated:\n",
      "[[2.71828183e+00 7.38905610e+00 2.00855369e+01]\n",
      " [5.45981500e+01 1.48413159e+02 4.03428793e+02]\n",
      " [1.09663316e+03 2.98095799e+03 8.10308393e+03]]\n",
      "Minimum value of B: 1\n",
      "Minimum value of each row of B: [1 4 7]\n",
      "Minimum value of each column of B: [1 2 3]\n",
      "Index of minimum value of B: 0\n",
      "Index of minimum value of each row of B: [0 0 0]\n",
      "Sum of all elements of B: 45\n",
      "Mean of all elements of B: 5.0\n",
      "Median of all elements of B: 5.0\n"
     ]
    }
   ],
   "source": [
    "print('B exponentiated:')\n",
    "print(np.exp(B))\n",
    "print(f'Minimum value of B: {B.min()}')\n",
    "print(f'Minimum value of each row of B: {B.min(axis=1)}')\n",
    "print(f'Minimum value of each column of B: {B.min(axis=0)}')\n",
    "print(f'Index of minimum value of B: {B.argmin()}')\n",
    "print(f'Index of minimum value of each row of B: {B.argmin(axis=1)}')\n",
    "print(f'Sum of all elements of B: {B.sum()}')\n",
    "print(f'Mean of all elements of B: {B.mean()}')\n",
    "print(f'Median of all elements of B: {np.median(B)}')"
   ]
  },
  {
   "cell_type": "markdown",
   "id": "541eb7ba",
   "metadata": {},
   "source": [
    "### What does it mean when you provide fewer indices than axes when slicing? See example below."
   ]
  },
  {
   "cell_type": "code",
   "execution_count": 104,
   "id": "9c8abf56",
   "metadata": {},
   "outputs": [
    {
     "name": "stdout",
     "output_type": "stream",
     "text": [
      "[[ 1  2  3  4  5]\n",
      " [ 6  7  8  9 10]\n",
      " [11 12 13 14 15]]\n"
     ]
    }
   ],
   "source": [
    "print(A)"
   ]
  },
  {
   "cell_type": "code",
   "execution_count": 105,
   "id": "69415f7b",
   "metadata": {},
   "outputs": [
    {
     "data": {
      "text/plain": [
       "array([ 6,  7,  8,  9, 10])"
      ]
     },
     "execution_count": 105,
     "metadata": {},
     "output_type": "execute_result"
    }
   ],
   "source": [
    "A[1]"
   ]
  },
  {
   "cell_type": "markdown",
   "id": "6c53541b",
   "metadata": {},
   "source": [
    "**Answer:**"
   ]
  },
  {
   "cell_type": "code",
   "execution_count": 115,
   "id": "de01e120",
   "metadata": {},
   "outputs": [
    {
     "name": "stdout",
     "output_type": "stream",
     "text": [
      "If you slice with fewer indices than axes you will slice in the first dimension and get all elements from the second dimension\n"
     ]
    }
   ],
   "source": [
    "print('If you slice with fewer indices than axes you will slice in the first dimension and get all elements from the second dimension')"
   ]
  },
  {
   "cell_type": "markdown",
   "id": "6652d0c9",
   "metadata": {},
   "source": [
    "### Iterating over multidimensional arrays is done with respect to the first axis, so in the example below we iterate trough the rows. If you would like to iterate through the array *elementwise*, how would you do that?"
   ]
  },
  {
   "cell_type": "code",
   "execution_count": 107,
   "id": "9459864f",
   "metadata": {},
   "outputs": [
    {
     "data": {
      "text/plain": [
       "array([[ 1,  2,  3,  4,  5],\n",
       "       [ 6,  7,  8,  9, 10],\n",
       "       [11, 12, 13, 14, 15]])"
      ]
     },
     "execution_count": 107,
     "metadata": {},
     "output_type": "execute_result"
    }
   ],
   "source": [
    "A"
   ]
  },
  {
   "cell_type": "code",
   "execution_count": 108,
   "id": "a671bb5a",
   "metadata": {},
   "outputs": [
    {
     "name": "stdout",
     "output_type": "stream",
     "text": [
      "[1 2 3 4 5]\n",
      "[ 6  7  8  9 10]\n",
      "[11 12 13 14 15]\n"
     ]
    }
   ],
   "source": [
    "for i in A:\n",
    "    print(i)"
   ]
  },
  {
   "cell_type": "code",
   "execution_count": 109,
   "id": "f4e443a0",
   "metadata": {},
   "outputs": [
    {
     "name": "stdout",
     "output_type": "stream",
     "text": [
      "1\n",
      "2\n",
      "3\n",
      "4\n",
      "5\n",
      "6\n",
      "7\n",
      "8\n",
      "9\n",
      "10\n",
      "11\n",
      "12\n",
      "13\n",
      "14\n",
      "15\n"
     ]
    }
   ],
   "source": [
    "for i in A:\n",
    "    for j in i:\n",
    "        print(j)"
   ]
  },
  {
   "cell_type": "markdown",
   "id": "608a2583",
   "metadata": {},
   "source": [
    "### Explain what the code below does. More specifically, b has three axes - what does this mean? "
   ]
  },
  {
   "cell_type": "code",
   "execution_count": 120,
   "id": "f8f9b26f",
   "metadata": {},
   "outputs": [
    {
     "name": "stdout",
     "output_type": "stream",
     "text": [
      "[ 0  1  2  3  4  5  6  7  8  9 10 11 12 13 14 15 16 17 18 19 20 21 22 23\n",
      " 24 25 26 27 28 29]\n",
      "\n",
      "[[[ 0  1  2  3  4]\n",
      "  [ 5  6  7  8  9]\n",
      "  [10 11 12 13 14]]\n",
      "\n",
      " [[15 16 17 18 19]\n",
      "  [20 21 22 23 24]\n",
      "  [25 26 27 28 29]]]\n"
     ]
    }
   ],
   "source": [
    "a = np.arange(30)\n",
    "b = a.reshape((2, 3, -1))\n",
    "print(a)\n",
    "print()\n",
    "\n",
    "print(b)"
   ]
  },
  {
   "cell_type": "code",
   "execution_count": 125,
   "id": "863a45df",
   "metadata": {},
   "outputs": [
    {
     "name": "stdout",
     "output_type": "stream",
     "text": [
      "Vi börjar med en endimensionell array med 30 element. Därefter vill vi skapa en 3-dimensionell array som innehåller lika många element som den ursprungliga.\n",
      "Vi vill att den första dimensionen har 2 element, den andra dimensionen har 3 element, och den tredje dimensionen har så många element som krävs för att det ska bli 30 element.\n",
      "Den nya arrayen (b) har då formen (2, 3, 5).\n"
     ]
    }
   ],
   "source": [
    "print('Vi börjar med en endimensionell array med 30 element. Därefter vill vi skapa en 3-dimensionell array som innehåller lika många element som den ursprungliga.')\n",
    "print('Vi vill att den första dimensionen har 2 element, den andra dimensionen har 3 element, och den tredje dimensionen har så många element som krävs för att det ska bli 30 element.')\n",
    "print(f'Den nya arrayen (b) har då formen {b.shape}.')"
   ]
  },
  {
   "cell_type": "code",
   "execution_count": null,
   "id": "eed38bbb-dd20-4d23-837f-679aa3d3a067",
   "metadata": {},
   "outputs": [],
   "source": []
  },
  {
   "cell_type": "markdown",
   "id": "421c9607-819a-401d-949a-97424436fe29",
   "metadata": {},
   "source": [
    "# For the exercises below, read the document *\"matematik_yh_antonio_vektorer_matriser_utdrag\"*\n",
    "# Solutions to the exercises and recorded videos can be found here: https://github.com/AntonioPrgomet/matematik_foer_yh\n",
    "\n",
    "# If you find the exercises below very hard, do not worry. Try your best, that will be enough. "
   ]
  },
  {
   "cell_type": "markdown",
   "id": "ab5933d5",
   "metadata": {},
   "source": [
    "### Broadcasting\n",
    "**Read the following link about broadcasting: https://numpy.org/doc/stable/user/basics.broadcasting.html#basics-broadcasting**"
   ]
  },
  {
   "cell_type": "markdown",
   "id": "039805ba",
   "metadata": {},
   "source": [
    "# Remark on Broadcasting when doing Linear Algebra calculations in Python. "
   ]
  },
  {
   "cell_type": "markdown",
   "id": "c4bcc147",
   "metadata": {},
   "source": [
    "### From the mathematical rules of matrix addition, the operation below (m1 + m2) does not make sense. The reason is that matrix addition requires two matrices of the same size. In Python however, it works due to broadcasting rules in NumPy. So you must be careful when doing Linear Algebra calculations in Python since they do not follow the \"mathematical rules\". This can however easily be handled by doing some simple programming, for example validating that two matrices have the same shape is easy if you for instance want to add two matrices. "
   ]
  },
  {
   "cell_type": "code",
   "execution_count": 89,
   "id": "1fd46778",
   "metadata": {},
   "outputs": [
    {
     "name": "stdout",
     "output_type": "stream",
     "text": [
      "[[2 3]\n",
      " [4 5]]\n"
     ]
    }
   ],
   "source": [
    "m1 = np.array([[1, 2], [3, 4]])\n",
    "m2 = np.array([1, 1])\n",
    "print(m1 + m2)"
   ]
  },
  {
   "cell_type": "markdown",
   "id": "047d6576",
   "metadata": {},
   "source": [
    "### The example below would also not be allowed if following the \"mathematical rules\" in Linear Algebra. But it works due to broadcasting in NumPy. "
   ]
  },
  {
   "cell_type": "code",
   "execution_count": 90,
   "id": "5e6ef2e4",
   "metadata": {},
   "outputs": [
    {
     "name": "stdout",
     "output_type": "stream",
     "text": [
      "[2 3 4]\n"
     ]
    }
   ],
   "source": [
    "v1 = np.array([1, 2, 3])\n",
    "print(v1 + 1)"
   ]
  },
  {
   "cell_type": "code",
   "execution_count": 91,
   "id": "e2cbae26",
   "metadata": {},
   "outputs": [
    {
     "name": "stdout",
     "output_type": "stream",
     "text": [
      "[[1 2]\n",
      " [3 4]]\n",
      "[2 2]\n"
     ]
    }
   ],
   "source": [
    "A = np.arange(1, 5).reshape(2,2)\n",
    "print(A)\n",
    "\n",
    "b = np.array([2, 2])\n",
    "print(b)"
   ]
  },
  {
   "cell_type": "markdown",
   "id": "722fd5cd",
   "metadata": {},
   "source": [
    "# Vector- and matrix algebra Exercises"
   ]
  },
  {
   "cell_type": "markdown",
   "id": "b63a3081-d976-4d9f-bfd0-a63917e79f7d",
   "metadata": {},
   "source": [
    "**Now you are going to create a function that can be reused every time you add or multiply matrices. The function is created so that we do the addition and multiplication according to the rules of vector- and matrix algebra.**\n",
    "\n",
    "**Create a function \"add_mult_matrices\" that takes two matrices as input arguments (validate that the input are of the type numpy.ndarray by using the isinstance function), a third argument that is either 'add' or 'multiply' that specifies if you want to add or multiply the matrices (validate that the third argument is either 'add' or 'multiply'). When doing matrix addition, validate that the matrices have the same size. When doing matrix multiplication, validate that the sizes conform (i.e. number of columns in the first matrix is equal to the number of rows in the second matrix).**"
   ]
  },
  {
   "cell_type": "code",
   "execution_count": 181,
   "id": "3506f977-ac0a-473f-85bc-eec9f35dc498",
   "metadata": {},
   "outputs": [],
   "source": [
    "def add_mult_matrices(S, T, add_mult):\n",
    "    if not isinstance(S, np.ndarray) or not isinstance(T, np.ndarray):\n",
    "        return 'En eller båda av matrisargumenten är inte en matris.'\n",
    "    if add_mult not in ('add','mult'):\n",
    "        return 'Tredje argumentet är inte \"add\" eller \"mult\"'\n",
    "    if add_mult == 'add':\n",
    "        if S.shape == T.shape:\n",
    "            return S+T\n",
    "        else:\n",
    "            return 'De två matriserna har inte samma dimension för matrisaddition'\n",
    "    if add_mult == 'mult':\n",
    "        if S.shape[1] == T.shape[0]:\n",
    "            return S@T\n",
    "        else:\n",
    "            return 'Antalet kolumner i första matrisen är inte samma som antalet rader i andra matrisen för matrismultiplikation'"
   ]
  },
  {
   "cell_type": "markdown",
   "id": "8dad82d0-2359-4dff-8f5b-a57d3e34103c",
   "metadata": {},
   "source": [
    "### Solve all the exercises in chapter 10.1 in the book \"Matematik för yrkeshögskolan\". "
   ]
  },
  {
   "cell_type": "code",
   "execution_count": 218,
   "id": "89df88af-3668-4d98-a0a4-e6d92eea0f89",
   "metadata": {},
   "outputs": [
    {
     "name": "stdout",
     "output_type": "stream",
     "text": [
      "Uppgift 10.1.1\n",
      "(a) x har dimensionen (2,)\n",
      "(b) 5x = [20 15]\n",
      "(c) 3x = [12  9]\n",
      "(d) 5x + 3x = [32 24]\n",
      "(e) 8x = [32 24]\n",
      "(f) 4x - x = [12  9]\n",
      "(g) xT = (2,)\n",
      "(h) \n",
      "(i) Normen av x är 5.0\n",
      "Uppgift 10.1.2\n",
      "(a) v har dimensionen (2,)\n",
      "(b) 2v = [ 6 14  0 22]\n",
      "(c) 5v + 2v = [21 49  0 77]\n",
      "(d) 4v - 2v = [ 6 14  0 22]\n",
      "(e)\n",
      "(f) Normen av v är 13.379088160259652\n",
      "Uppgift 10.1.3\n",
      "(a) Normen av v1 är 7.14142842854285\n",
      "(b) Normen av v1-v2 är 4.47213595499958\n"
     ]
    }
   ],
   "source": [
    "print('Uppgift 10.1.1')\n",
    "x = np.array([4,3])\n",
    "print(f'(a) x har dimensionen {x.shape}')\n",
    "print(f'(b) 5x = {5*x}')\n",
    "print(f'(c) 3x = {3*x}')\n",
    "print(f'(d) 5x + 3x = {add_mult_matrices(5*x,3*x,'add')}')\n",
    "print(f'(e) 8x = {8*x}')\n",
    "print(f'(f) 4x - x = {add_mult_matrices(4*x,-x,'add')}')\n",
    "print(f'(g) xT = {x.transpose().shape}')\n",
    "print(f'(h) ')\n",
    "print(f'(i) Normen av x är {np.linalg.norm(x)}')\n",
    "print('Uppgift 10.1.2')\n",
    "v = np.array([3,7,0,11])\n",
    "print(f'(a) v har dimensionen {x.shape}')\n",
    "print(f'(b) 2v = {2*v}')\n",
    "print(f'(c) 5v + 2v = {add_mult_matrices(5*v,2*v,'add')}')\n",
    "print(f'(d) 4v - 2v = {add_mult_matrices(4*v,-2*v,'add')}')\n",
    "print(f'(e)')\n",
    "print(f'(f) Normen av v är {np.linalg.norm(v)}')\n",
    "print('Uppgift 10.1.3')\n",
    "v1 = np.array([4,3,1,5])\n",
    "v2 = np.array([2,3,1,1])\n",
    "print(f'(a) Normen av v1 är {np.linalg.norm(v1)}')\n",
    "print(f'(b) Normen av v1-v2 är {np.linalg.norm(add_mult_matrices(v1,-v2,'add'))}')\n"
   ]
  },
  {
   "cell_type": "markdown",
   "id": "75c98984-1f88-4df1-b850-d2466de444a5",
   "metadata": {},
   "source": [
    "### Solve all the exercises, except 10.2.4, in chapter 10.2 in the book \"Matematik för yrkeshögskolan\". "
   ]
  },
  {
   "cell_type": "code",
   "execution_count": 233,
   "id": "65371610-16e1-48b2-b7fb-65e49002608a",
   "metadata": {},
   "outputs": [
    {
     "name": "stdout",
     "output_type": "stream",
     "text": [
      "Uppgift 10.2.1\n",
      "(a) 2A =\n",
      "[[ 4  2 -2]\n",
      " [ 2 -2  2]]\n",
      "(b) B - 2A=\n",
      "[[ 0 -4  3]\n",
      " [ 0 -2 -4]]\n",
      "(c) 3C - 2E=\n",
      "De två matriserna har inte samma dimension för matrisaddition\n",
      "(d) 2D - 3C = \n",
      "[[3 2]\n",
      " [2 3]]\n",
      "(e) DT - 2D =\n",
      "[[ 9 12]\n",
      " [12  9]]\n",
      "(f) 2CT - 2DT =\n",
      "[[-4 -4]\n",
      " [-4 -4]]\n",
      "(g) AT - B =\n",
      "De två matriserna har inte samma dimension för matrisaddition\n",
      "(h) AC =\n",
      "Antalet kolumner i första matrisen är inte samma som antalet rader i andra matrisen för matrismultiplikation\n",
      "(h) CD =\n",
      "[[11 10]\n",
      " [10 11]]\n",
      "(h) CB =\n",
      "[[  8 -10  -3]\n",
      " [ 10  -8   0]]\n",
      "(h) CI =\n",
      "[[1 2]\n",
      " [2 1]]\n",
      "(h) ABT =\n",
      "[[5 2]\n",
      " [7 4]]\n"
     ]
    }
   ],
   "source": [
    "A = np.array([[2, 1, -1],[1, -1, 1]])\n",
    "B = np.array([[4, -2, 1],[2, -4, -2]])\n",
    "C = np.array([[1, 2],[2, 1]])\n",
    "D = np.array([[3, 4],[4, 3]])\n",
    "E = np.array([[1],[2]])\n",
    "I = np.array([[1, 0],[0, 1]])\n",
    "print('Uppgift 10.2.1')\n",
    "print(f'(a) 2A =\\n{2*A}')\n",
    "print(f'(b) B - 2A=\\n{add_mult_matrices(B,-2*A,'add')}')\n",
    "print(f'(c) 3C - 2E=\\n{add_mult_matrices(3*C,-2*E,'add')}')\n",
    "print(f'(d) 2D - 3C = \\n{add_mult_matrices(2*D,-3*C,'add')}')\n",
    "print(f'(e) DT - 2D =\\n{add_mult_matrices(D.T,2*D,'add')}')\n",
    "print(f'(f) 2CT - 2DT =\\n{add_mult_matrices(2*C.T,-2*D.T,'add')}')\n",
    "print(f'(g) AT - B =\\n{add_mult_matrices(A.T,-1*B,'add')}')\n",
    "print(f'(h) AC =\\n{add_mult_matrices(A,C,'mult')}')\n",
    "print(f'(h) CD =\\n{add_mult_matrices(C,D,'mult')}')\n",
    "print(f'(h) CB =\\n{add_mult_matrices(C,B,'mult')}')\n",
    "print(f'(h) CI =\\n{add_mult_matrices(C,I,'mult')}')\n",
    "print(f'(h) ABT =\\n{add_mult_matrices(A,B.T,'mult')}')"
   ]
  },
  {
   "cell_type": "code",
   "execution_count": 234,
   "id": "06b73c09",
   "metadata": {},
   "outputs": [
    {
     "name": "stdout",
     "output_type": "stream",
     "text": [
      "Uppgift 10.2.2\n",
      "AAT =\n",
      "[[29 26]\n",
      " [26 42]]\n"
     ]
    }
   ],
   "source": [
    "A = np.array([[2,3,4],[5,4,1]])\n",
    "print('Uppgift 10.2.2')\n",
    "print(f'AAT =\\n{add_mult_matrices(A,A.T,'mult')}')"
   ]
  },
  {
   "cell_type": "code",
   "execution_count": 245,
   "id": "1e7f5691",
   "metadata": {},
   "outputs": [
    {
     "name": "stdout",
     "output_type": "stream",
     "text": [
      "Uppgift 10.2.3\n",
      "AB =\n",
      "[[ 4  7]\n",
      " [ 8 14]]\n",
      "AC =\n",
      "[[ 4  7]\n",
      " [ 8 14]]\n",
      "AB = AC är True\n",
      "B = C är False\n"
     ]
    }
   ],
   "source": [
    "A = np.array([[1,2],[2,4]])\n",
    "B = np.array([[2,1],[1,3]])\n",
    "C = np.array([[4,3],[0,2]])\n",
    "AB = add_mult_matrices(A,B,'mult')\n",
    "AC = add_mult_matrices(A,C,'mult')\n",
    "print('Uppgift 10.2.3')\n",
    "print(f'AB =\\n{AB}')\n",
    "print(f'AC =\\n{AC}')\n",
    "print(f'AB = AC är {np.array_equal(AB,AC)}')\n",
    "print(f'B = C är {np.array_equal(B,C)}')"
   ]
  },
  {
   "cell_type": "markdown",
   "id": "6a4a524f",
   "metadata": {},
   "source": [
    "### Copies and Views\n",
    "Read the following link: https://numpy.org/doc/stable/user/basics.copies.html"
   ]
  },
  {
   "cell_type": "markdown",
   "id": "6cbbeaf7",
   "metadata": {},
   "source": [
    "**Basic indexing creates a view, How can you check if v1 and v2 is a view or copy? If you change the last element in v2 to 123, will the last element in v1 be changed? Why?**"
   ]
  },
  {
   "cell_type": "code",
   "execution_count": 92,
   "id": "5b9ef4df",
   "metadata": {},
   "outputs": [
    {
     "name": "stdout",
     "output_type": "stream",
     "text": [
      "[0 1 2 3]\n",
      "[2 3]\n"
     ]
    }
   ],
   "source": [
    "v1 = np.arange(4)\n",
    "v2 = v1[-2:]\n",
    "print(v1)\n",
    "print(v2)"
   ]
  },
  {
   "cell_type": "code",
   "execution_count": 93,
   "id": "d2440489",
   "metadata": {},
   "outputs": [
    {
     "name": "stdout",
     "output_type": "stream",
     "text": [
      "None\n",
      "[0 1 2 3]\n"
     ]
    }
   ],
   "source": [
    "# The base attribute of a view returns the original array while it returns None for a copy.\n",
    "print(v1.base)\n",
    "print(v2.base)"
   ]
  },
  {
   "cell_type": "code",
   "execution_count": 94,
   "id": "c8752807",
   "metadata": {},
   "outputs": [
    {
     "name": "stdout",
     "output_type": "stream",
     "text": [
      "[  0   1   2 123]\n",
      "[  2 123]\n"
     ]
    }
   ],
   "source": [
    "# The last element in v1 will be changed aswell since v2 is a view, meaning they share the same data buffer.\n",
    "v2[-1] = 123\n",
    "print(v1)\n",
    "print(v2)"
   ]
  },
  {
   "cell_type": "code",
   "execution_count": 246,
   "id": "3dd68221",
   "metadata": {},
   "outputs": [
    {
     "name": "stdout",
     "output_type": "stream",
     "text": [
      "Eftersom v2 är en view av v1 (och inte en kopia) så ändras även det sista elementet i v1 när vi ändrar i v2.\n"
     ]
    }
   ],
   "source": [
    "print('Eftersom v2 är en view av v1 (och inte en kopia) så ändras även det sista elementet i v1 när vi ändrar i v2.')"
   ]
  },
  {
   "cell_type": "code",
   "execution_count": null,
   "id": "1ebed8e2",
   "metadata": {},
   "outputs": [],
   "source": []
  }
 ],
 "metadata": {
  "kernelspec": {
   "display_name": "Python 3",
   "language": "python",
   "name": "python3"
  },
  "language_info": {
   "codemirror_mode": {
    "name": "ipython",
    "version": 3
   },
   "file_extension": ".py",
   "mimetype": "text/x-python",
   "name": "python",
   "nbconvert_exporter": "python",
   "pygments_lexer": "ipython3",
   "version": "3.12.6"
  }
 },
 "nbformat": 4,
 "nbformat_minor": 5
}
